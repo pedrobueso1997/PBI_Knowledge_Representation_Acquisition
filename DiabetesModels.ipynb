{
 "cells": [
  {
   "cell_type": "markdown",
   "metadata": {},
   "source": [
    "# Excercise: Diabetes models\n",
    "\n",
    "### Pedro Bueso-Inchausti García"
   ]
  },
  {
   "cell_type": "markdown",
   "metadata": {},
   "source": [
    "## 1. Objective\n",
    "\n",
    "Implement different classifiers for our diabetes dataset\n"
   ]
  },
  {
   "cell_type": "markdown",
   "metadata": {},
   "source": [
    "## 2. Pre-requisites\n",
    "\n",
    "We import all the library and functions needed."
   ]
  },
  {
   "cell_type": "code",
   "execution_count": 30,
   "metadata": {},
   "outputs": [],
   "source": [
    "import os\n",
    "import numpy\n",
    "import pandas\n",
    "import seaborn\n",
    "import findspark\n",
    "findspark.init()\n",
    "from os import getcwd\n",
    "from pyspark import SparkContext\n",
    "from pyspark.sql import SQLContext\n",
    "from pyspark.sql.types import IntegerType\n",
    "from pyspark.ml import Pipeline\n",
    "from pyspark.ml.feature import VectorAssembler\n",
    "from pyspark.ml.evaluation import MulticlassClassificationEvaluator\n",
    "from pyspark.ml.tuning import CrossValidator, ParamGridBuilder\n",
    "from pyspark.ml.classification import NaiveBayes, MultilayerPerceptronClassifier, LogisticRegression, DecisionTreeClassifier,RandomForestClassifier, GBTClassifier"
   ]
  },
  {
   "cell_type": "markdown",
   "metadata": {},
   "source": [
    "We initialise the Spark Context and the SQL Context."
   ]
  },
  {
   "cell_type": "code",
   "execution_count": 2,
   "metadata": {},
   "outputs": [],
   "source": [
    "sc = SparkContext(master = 'local[4]')\n",
    "sqlc = SQLContext(sc)"
   ]
  },
  {
   "cell_type": "markdown",
   "metadata": {},
   "source": [
    "We define the formats available."
   ]
  },
  {
   "cell_type": "code",
   "execution_count": 3,
   "metadata": {},
   "outputs": [],
   "source": [
    "formats = [\"cca\",\"knn\",\"hd\",\"em\"]"
   ]
  },
  {
   "cell_type": "markdown",
   "metadata": {},
   "source": [
    "We load the training datasets."
   ]
  },
  {
   "cell_type": "code",
   "execution_count": 9,
   "metadata": {},
   "outputs": [],
   "source": [
    "for format in formats:\n",
    "    locals()[\"train_data_\"+format] = sqlc.read.format('csv').option('header','true')\\\n",
    "    .option('inferSchema','true').load(\"diabetes_\"+format+\"_train.csv\")"
   ]
  },
  {
   "cell_type": "markdown",
   "metadata": {},
   "source": [
    "We load the test dataset."
   ]
  },
  {
   "cell_type": "code",
   "execution_count": 10,
   "metadata": {},
   "outputs": [],
   "source": [
    "test_data = sqlc.read.format('csv').option('header','true').option('inferSchema','true').load(\"diabetes_na_test.csv\")"
   ]
  },
  {
   "cell_type": "markdown",
   "metadata": {},
   "source": [
    "## 3. Modelling"
   ]
  },
  {
   "cell_type": "markdown",
   "metadata": {},
   "source": [
    "We prepare data for modelization, this requires creating an indexedLabel and an indexedFeatures columns"
   ]
  },
  {
   "cell_type": "code",
   "execution_count": 11,
   "metadata": {},
   "outputs": [],
   "source": [
    "feature_columns = list(test_data.toPandas().columns)[0:-1]\n",
    "label_column = test_data.toPandas().columns[-1]"
   ]
  },
  {
   "cell_type": "code",
   "execution_count": 12,
   "metadata": {},
   "outputs": [],
   "source": [
    "assem = VectorAssembler(inputCols=feature_columns, outputCol=\"Features\")\n",
    "for format in formats:\n",
    "    locals()[\"train_data_\"+format] = assem.transform(locals()[\"train_data_\"+format])\n",
    "test_data = assem.transform(test_data)"
   ]
  },
  {
   "cell_type": "code",
   "execution_count": 17,
   "metadata": {},
   "outputs": [
    {
     "data": {
      "text/html": [
       "<div>\n",
       "<style scoped>\n",
       "    .dataframe tbody tr th:only-of-type {\n",
       "        vertical-align: middle;\n",
       "    }\n",
       "\n",
       "    .dataframe tbody tr th {\n",
       "        vertical-align: top;\n",
       "    }\n",
       "\n",
       "    .dataframe thead th {\n",
       "        text-align: right;\n",
       "    }\n",
       "</style>\n",
       "<table border=\"1\" class=\"dataframe\">\n",
       "  <thead>\n",
       "    <tr style=\"text-align: right;\">\n",
       "      <th></th>\n",
       "      <th>Pregnancies</th>\n",
       "      <th>Glucose</th>\n",
       "      <th>BloodPressure</th>\n",
       "      <th>SkinThickness</th>\n",
       "      <th>Insulin</th>\n",
       "      <th>BMI</th>\n",
       "      <th>DiabetesPedigreeFunction</th>\n",
       "      <th>Age</th>\n",
       "      <th>Outcome</th>\n",
       "      <th>Features</th>\n",
       "    </tr>\n",
       "  </thead>\n",
       "  <tbody>\n",
       "    <tr>\n",
       "      <th>0</th>\n",
       "      <td>1</td>\n",
       "      <td>143</td>\n",
       "      <td>74</td>\n",
       "      <td>22</td>\n",
       "      <td>61</td>\n",
       "      <td>26.2</td>\n",
       "      <td>0.256</td>\n",
       "      <td>21</td>\n",
       "      <td>0</td>\n",
       "      <td>[1.0, 143.0, 74.0, 22.0, 61.0, 26.2, 0.256, 21.0]</td>\n",
       "    </tr>\n",
       "    <tr>\n",
       "      <th>1</th>\n",
       "      <td>1</td>\n",
       "      <td>109</td>\n",
       "      <td>38</td>\n",
       "      <td>18</td>\n",
       "      <td>120</td>\n",
       "      <td>23.1</td>\n",
       "      <td>0.407</td>\n",
       "      <td>26</td>\n",
       "      <td>0</td>\n",
       "      <td>[1.0, 109.0, 38.0, 18.0, 120.0, 23.1, 0.407, 2...</td>\n",
       "    </tr>\n",
       "    <tr>\n",
       "      <th>2</th>\n",
       "      <td>5</td>\n",
       "      <td>123</td>\n",
       "      <td>74</td>\n",
       "      <td>40</td>\n",
       "      <td>77</td>\n",
       "      <td>34.1</td>\n",
       "      <td>0.269</td>\n",
       "      <td>28</td>\n",
       "      <td>0</td>\n",
       "      <td>[5.0, 123.0, 74.0, 40.0, 77.0, 34.1, 0.269, 28.0]</td>\n",
       "    </tr>\n",
       "    <tr>\n",
       "      <th>3</th>\n",
       "      <td>11</td>\n",
       "      <td>136</td>\n",
       "      <td>84</td>\n",
       "      <td>35</td>\n",
       "      <td>130</td>\n",
       "      <td>28.3</td>\n",
       "      <td>0.260</td>\n",
       "      <td>42</td>\n",
       "      <td>1</td>\n",
       "      <td>[11.0, 136.0, 84.0, 35.0, 130.0, 28.3, 0.26, 4...</td>\n",
       "    </tr>\n",
       "    <tr>\n",
       "      <th>4</th>\n",
       "      <td>2</td>\n",
       "      <td>123</td>\n",
       "      <td>48</td>\n",
       "      <td>32</td>\n",
       "      <td>165</td>\n",
       "      <td>42.1</td>\n",
       "      <td>0.520</td>\n",
       "      <td>26</td>\n",
       "      <td>0</td>\n",
       "      <td>[2.0, 123.0, 48.0, 32.0, 165.0, 42.1, 0.52, 26.0]</td>\n",
       "    </tr>\n",
       "  </tbody>\n",
       "</table>\n",
       "</div>"
      ],
      "text/plain": [
       "   Pregnancies  Glucose  BloodPressure  SkinThickness  Insulin   BMI  \\\n",
       "0            1      143             74             22       61  26.2   \n",
       "1            1      109             38             18      120  23.1   \n",
       "2            5      123             74             40       77  34.1   \n",
       "3           11      136             84             35      130  28.3   \n",
       "4            2      123             48             32      165  42.1   \n",
       "\n",
       "   DiabetesPedigreeFunction  Age  Outcome  \\\n",
       "0                     0.256   21        0   \n",
       "1                     0.407   26        0   \n",
       "2                     0.269   28        0   \n",
       "3                     0.260   42        1   \n",
       "4                     0.520   26        0   \n",
       "\n",
       "                                            Features  \n",
       "0  [1.0, 143.0, 74.0, 22.0, 61.0, 26.2, 0.256, 21.0]  \n",
       "1  [1.0, 109.0, 38.0, 18.0, 120.0, 23.1, 0.407, 2...  \n",
       "2  [5.0, 123.0, 74.0, 40.0, 77.0, 34.1, 0.269, 28.0]  \n",
       "3  [11.0, 136.0, 84.0, 35.0, 130.0, 28.3, 0.26, 4...  \n",
       "4  [2.0, 123.0, 48.0, 32.0, 165.0, 42.1, 0.52, 26.0]  "
      ]
     },
     "execution_count": 17,
     "metadata": {},
     "output_type": "execute_result"
    }
   ],
   "source": [
    "train_data_cca.toPandas().head()"
   ]
  },
  {
   "cell_type": "markdown",
   "metadata": {},
   "source": [
    "We define an evaluator which will be used to evaluate each algorithm"
   ]
  },
  {
   "cell_type": "code",
   "execution_count": 18,
   "metadata": {},
   "outputs": [],
   "source": [
    "evaluator = MulticlassClassificationEvaluator(labelCol=\"Outcome\", predictionCol=\"Prediction\", metricName=\"accuracy\")"
   ]
  },
  {
   "cell_type": "markdown",
   "metadata": {},
   "source": [
    "### Naive Bayes"
   ]
  },
  {
   "cell_type": "code",
   "execution_count": 19,
   "metadata": {},
   "outputs": [
    {
     "name": "stdout",
     "output_type": "stream",
     "text": [
      "Accuracy in the train_data_cca\n",
      "0.6418092909535452\n",
      "Accuracy in the train_data_knn\n",
      "0.6802807913209955\n",
      "Accuracy in the train_data_hd\n",
      "0.6496490108487556\n",
      "Accuracy in the train_data_em\n",
      "0.6994256541161455\n"
     ]
    }
   ],
   "source": [
    "nb = NaiveBayes(labelCol=\"Outcome\", featuresCol=\"Features\", predictionCol=\"Prediction\")\n",
    "pg_nb = ParamGridBuilder().addGrid(nb.smoothing, [0.25,0.5,0.75]).build()\n",
    "cv_nb = CrossValidator(estimator=nb, estimatorParamMaps=pg_nb, evaluator=evaluator, numFolds=3)\n",
    "\n",
    "for format in formats:\n",
    "    locals()[\"model_nb_\"+format] = cv_nb.fit(locals()[\"train_data_\"+format])\n",
    "    locals()[\"train_nb_\"+format] = locals()[\"model_nb_\"+format].transform(locals()[\"train_data_\"+format])\n",
    "    print(\"Accuracy in the train_data_\"+format)\n",
    "    print(evaluator.evaluate(locals()[\"train_nb_\"+format]))"
   ]
  },
  {
   "cell_type": "markdown",
   "metadata": {},
   "source": [
    "### Logistic regression"
   ]
  },
  {
   "cell_type": "code",
   "execution_count": 20,
   "metadata": {},
   "outputs": [
    {
     "name": "stdout",
     "output_type": "stream",
     "text": [
      "Accuracy in the train_data_cca\n",
      "0.7921760391198044\n",
      "Accuracy in the train_data_knn\n",
      "0.7708998085513721\n",
      "Accuracy in the train_data_hd\n",
      "0.7798340778557754\n",
      "Accuracy in the train_data_em\n",
      "0.7779195915762603\n"
     ]
    }
   ],
   "source": [
    "lr = LogisticRegression(labelCol=\"Outcome\", featuresCol=\"Features\", predictionCol=\"Prediction\")\n",
    "pg_lr = ParamGridBuilder().addGrid(lr.regParam, [0.1,0.05,0.01]).addGrid(lr.elasticNetParam, [0.1,0.05,0.01]).build()\n",
    "cv_lr = CrossValidator(estimator=lr, estimatorParamMaps=pg_lr, evaluator=evaluator, numFolds=3)\n",
    "\n",
    "for format in formats:\n",
    "    locals()[\"model_lr_\"+format] = cv_lr.fit(locals()[\"train_data_\"+format])\n",
    "    locals()[\"train_lr_\"+format] = locals()[\"model_lr_\"+format].transform(locals()[\"train_data_\"+format])\n",
    "    print(\"Accuracy in the train_data_\"+format)\n",
    "    print(evaluator.evaluate(locals()[\"train_lr_\"+format]))"
   ]
  },
  {
   "cell_type": "markdown",
   "metadata": {},
   "source": [
    "### Multilayer perceptron classifier"
   ]
  },
  {
   "cell_type": "code",
   "execution_count": 21,
   "metadata": {},
   "outputs": [
    {
     "name": "stdout",
     "output_type": "stream",
     "text": [
      "Accuracy in the train_data_cca\n",
      "0.7322738386308069\n",
      "Accuracy in the train_data_knn\n",
      "0.7249521378430122\n",
      "Accuracy in the train_data_hd\n",
      "0.6783663050414805\n",
      "Accuracy in the train_data_em\n",
      "0.7645181876196554\n"
     ]
    }
   ],
   "source": [
    "mlp = MultilayerPerceptronClassifier(labelCol=\"Outcome\", featuresCol=\"Features\", predictionCol=\"Prediction\")\n",
    "pg_mlp = ParamGridBuilder().addGrid(mlp.layers, [[8,5,5,2],[8,10,10,2],[8,15,15,2]]).build()\n",
    "cv_mlp = CrossValidator(estimator=mlp, estimatorParamMaps=pg_mlp, evaluator=evaluator, numFolds=3)\n",
    "\n",
    "for format in formats:\n",
    "    locals()[\"model_mlp_\"+format] = cv_mlp.fit(locals()[\"train_data_\"+format])\n",
    "    locals()[\"train_mlp_\"+format] = locals()[\"model_mlp_\"+format].transform(locals()[\"train_data_\"+format])\n",
    "    print(\"Accuracy in the train_data_\"+format)\n",
    "    print(evaluator.evaluate(locals()[\"train_mlp_\"+format]))"
   ]
  },
  {
   "cell_type": "markdown",
   "metadata": {},
   "source": [
    "### Decision Tree"
   ]
  },
  {
   "cell_type": "code",
   "execution_count": 22,
   "metadata": {},
   "outputs": [
    {
     "name": "stdout",
     "output_type": "stream",
     "text": [
      "Accuracy in the train_data_cca\n",
      "0.9877750611246944\n",
      "Accuracy in the train_data_knn\n",
      "0.9725590299936184\n",
      "Accuracy in the train_data_hd\n",
      "0.97702616464582\n",
      "Accuracy in the train_data_em\n",
      "0.99234205488194\n"
     ]
    }
   ],
   "source": [
    "dt = DecisionTreeClassifier(labelCol=\"Outcome\", featuresCol=\"Features\", predictionCol=\"Prediction\")\n",
    "pg_dt = ParamGridBuilder().addGrid(dt.maxDepth, [4,6,8,10]).build()\n",
    "cv_dt = CrossValidator(estimator=dt, estimatorParamMaps=pg_dt, evaluator=evaluator, numFolds=3)\n",
    "\n",
    "for format in formats:\n",
    "    locals()[\"model_dt_\"+format] = cv_dt.fit(locals()[\"train_data_\"+format])\n",
    "    locals()[\"train_dt_\"+format] = locals()[\"model_dt_\"+format].transform(locals()[\"train_data_\"+format])\n",
    "    print(\"Accuracy in the train_data_\"+format)\n",
    "    print(evaluator.evaluate(locals()[\"train_dt_\"+format]))"
   ]
  },
  {
   "cell_type": "markdown",
   "metadata": {},
   "source": [
    "### Random forest classifier"
   ]
  },
  {
   "cell_type": "code",
   "execution_count": 23,
   "metadata": {},
   "outputs": [
    {
     "name": "stdout",
     "output_type": "stream",
     "text": [
      "Accuracy in the train_data_cca\n",
      "0.9987775061124694\n",
      "Accuracy in the train_data_knn\n",
      "0.9974473516273133\n",
      "Accuracy in the train_data_hd\n",
      "0.9865985960433951\n",
      "Accuracy in the train_data_em\n",
      "0.9929802169751116\n"
     ]
    }
   ],
   "source": [
    "rf = RandomForestClassifier(labelCol=\"Outcome\", featuresCol=\"Features\", predictionCol=\"Prediction\")\n",
    "pg_rf = ParamGridBuilder().addGrid(rf.numTrees,[20,40]).addGrid(rf.maxDepth,[5,10]).build()\n",
    "cv_rf = CrossValidator(estimator=rf, estimatorParamMaps=pg_rf, evaluator=evaluator, numFolds=3)\n",
    "\n",
    "for format in formats:\n",
    "    locals()[\"model_rf_\"+format] = cv_rf.fit(locals()[\"train_data_\"+format])\n",
    "    locals()[\"train_rf_\"+format] = locals()[\"model_rf_\"+format].transform(locals()[\"train_data_\"+format])\n",
    "    print(\"Accuracy in the train_data_\"+format)\n",
    "    print(evaluator.evaluate(locals()[\"train_rf_\"+format]))"
   ]
  },
  {
   "cell_type": "markdown",
   "metadata": {},
   "source": [
    "### Gradient boosted tree classifier"
   ]
  },
  {
   "cell_type": "code",
   "execution_count": 24,
   "metadata": {},
   "outputs": [
    {
     "name": "stdout",
     "output_type": "stream",
     "text": [
      "Accuracy in the train_data_cca\n",
      "1.0\n",
      "Accuracy in the train_data_knn\n",
      "0.994256541161455\n",
      "Accuracy in the train_data_hd\n",
      "0.9629865985960434\n",
      "Accuracy in the train_data_em\n",
      "0.9680918953414167\n"
     ]
    }
   ],
   "source": [
    "gbt = GBTClassifier(labelCol=\"Outcome\", featuresCol=\"Features\", predictionCol=\"Prediction\")\n",
    "pg_gbt = ParamGridBuilder().addGrid(gbt.maxIter,[20,40]).addGrid(gbt.maxDepth,[5,10]).build()\n",
    "cv_gbt = CrossValidator(estimator=gbt, estimatorParamMaps=pg_gbt, evaluator=evaluator, numFolds=3)\n",
    "\n",
    "for format in formats:\n",
    "    locals()[\"model_gbt_\"+format] = cv_gbt.fit(locals()[\"train_data_\"+format])\n",
    "    locals()[\"train_gbt_\"+format] = locals()[\"model_gbt_\"+format].transform(locals()[\"train_data_\"+format])\n",
    "    print(\"Accuracy in the train_data_\"+format)\n",
    "    print(evaluator.evaluate(locals()[\"train_gbt_\"+format]))"
   ]
  },
  {
   "cell_type": "markdown",
   "metadata": {},
   "source": [
    "## 4. Results"
   ]
  },
  {
   "cell_type": "markdown",
   "metadata": {},
   "source": [
    "We see which are the results in our test data"
   ]
  },
  {
   "cell_type": "code",
   "execution_count": 31,
   "metadata": {},
   "outputs": [],
   "source": [
    "methods = [\"Naive Bayes\",\"Multilayer Perceptron\",\"Logistic Regression\",\"Decision Tree\",\"Random Forest\",\"Gradient Boosted Tree\"]\n",
    "\n",
    "for format in formats:\n",
    "    \n",
    "    locals()[\"test_nb_\"+format] = locals()[\"model_nb_\"+format].transform(test_data)\n",
    "    locals()[\"test_mlp_\"+format] = locals()[\"model_mlp_\"+format].transform(test_data)\n",
    "    locals()[\"test_lr_\"+format] = locals()[\"model_lr_\"+format].transform(test_data)\n",
    "    locals()[\"test_dt_\"+format] = locals()[\"model_dt_\"+format].transform(test_data)\n",
    "    locals()[\"test_rf_\"+format] = locals()[\"model_rf_\"+format].transform(test_data)\n",
    "    locals()[\"test_gbt_\"+format] = locals()[\"model_gbt_\"+format].transform(test_data)\n",
    "\n",
    "    results = [evaluator.evaluate(locals()[\"test_nb_\"+format]),\n",
    "               evaluator.evaluate(locals()[\"test_mlp_\"+format]),\n",
    "               evaluator.evaluate(locals()[\"test_lr_\"+format]),\n",
    "               evaluator.evaluate(locals()[\"test_dt_\"+format]),\n",
    "               evaluator.evaluate(locals()[\"test_rf_\"+format]),\n",
    "               evaluator.evaluate(locals()[\"test_gbt_\"+format])]\n",
    "    \n",
    "    methods_results = {'Methods':methods,'Results':results}\n",
    "    locals()[\"results_\"+format] = pandas.DataFrame(methods_results)                                                    \n",
    "    locals()[\"file_path\"+format] = os.path.join(getcwd(),'Models',\"results_\"+format+\".csv\")\n",
    "    locals()[\"results_\"+format].to_csv(locals()[\"file_path\"+format],index=False)"
   ]
  },
  {
   "cell_type": "markdown",
   "metadata": {},
   "source": [
    "We compare the predictions, row by row, for each algorithm and whether they agree or not with the real outcome. We save the csv files that are produced."
   ]
  },
  {
   "cell_type": "code",
   "execution_count": 34,
   "metadata": {},
   "outputs": [],
   "source": [
    "columns = [\"Naive Bayes\",\"Multilayer Perceptron\",\"Logistic Regression\",\n",
    "\"Decision Tree\",\"Random Forest\",\"Gradient Boosted Tree\", \"Outcome\"]\n",
    "\n",
    "for format in formats:\n",
    "    \n",
    "    locals()[\"comparisons_\"+format] = pandas.concat([locals()[\"test_nb_\"+format].toPandas()['Prediction'],\n",
    "    locals()[\"test_mlp_\"+format].toPandas()['Prediction'],locals()[\"test_lr_\"+format].toPandas()['Prediction'],\n",
    "    locals()[\"test_dt_\"+format].toPandas()['Prediction'],locals()[\"test_rf_\"+format].toPandas()['Prediction'],\n",
    "    locals()[\"test_gbt_\"+format].toPandas()['Prediction'],test_data.toPandas()['Outcome']],axis=1)\n",
    "    \n",
    "    locals()[\"comparisons_\"+format].columns = columns                                              \n",
    "    locals()[\"comparisons_\"+format] = locals()[\"comparisons_\"+format].applymap(numpy.int64)\n",
    "    \n",
    "    locals()[\"file_path\"+format] = os.path.join(getcwd(),'Models',\"comparisons_\"+format+\".csv\")\n",
    "    locals()[\"comparisons_\"+format].to_csv(locals()[\"file_path\"+format],index=False)"
   ]
  },
  {
   "cell_type": "code",
   "execution_count": 35,
   "metadata": {},
   "outputs": [
    {
     "data": {
      "text/plain": [
       "<matplotlib.axes._subplots.AxesSubplot at 0x23f07335be0>"
      ]
     },
     "execution_count": 35,
     "metadata": {},
     "output_type": "execute_result"
    },
    {
     "data": {
      "image/png": "[encoded data removed]",
      "text/plain": [
       "<Figure size 432x288 with 1 Axes>"
      ]
     },
     "metadata": {
      "needs_background": "light"
     },
     "output_type": "display_data"
    }
   ],
   "source": [
    "seaborn.heatmap(comparisons_cca, cbar=False, cmap='gray')"
   ]
  },
  {
   "cell_type": "code",
   "execution_count": 36,
   "metadata": {},
   "outputs": [
    {
     "data": {
      "text/plain": [
       "<matplotlib.axes._subplots.AxesSubplot at 0x23f07d439b0>"
      ]
     },
     "execution_count": 36,
     "metadata": {},
     "output_type": "execute_result"
    },
    {
     "data": {
      "image/png": "[encoded data removed]",
      "text/plain": [
       "<Figure size 432x288 with 1 Axes>"
      ]
     },
     "metadata": {
      "needs_background": "light"
     },
     "output_type": "display_data"
    }
   ],
   "source": [
    "seaborn.heatmap(comparisons_knn, cbar=False, cmap='gray')"
   ]
  },
  {
   "cell_type": "code",
   "execution_count": 37,
   "metadata": {},
   "outputs": [
    {
     "data": {
      "text/plain": [
       "<matplotlib.axes._subplots.AxesSubplot at 0x23f07d32be0>"
      ]
     },
     "execution_count": 37,
     "metadata": {},
     "output_type": "execute_result"
    },
    {
     "data": {
      "image/png": "[encoded data removed]",
      "text/plain": [
       "<Figure size 432x288 with 1 Axes>"
      ]
     },
     "metadata": {
      "needs_background": "light"
     },
     "output_type": "display_data"
    }
   ],
   "source": [
    "seaborn.heatmap(comparisons_hd, cbar=False, cmap='gray')"
   ]
  },
  {
   "cell_type": "code",
   "execution_count": 38,
   "metadata": {},
   "outputs": [
    {
     "data": {
      "text/plain": [
       "<matplotlib.axes._subplots.AxesSubplot at 0x23f07e36128>"
      ]
     },
     "execution_count": 38,
     "metadata": {},
     "output_type": "execute_result"
    },
    {
     "data": {
      "image/png": "[encoded data removed]",
      "text/plain": [
       "<Figure size 432x288 with 1 Axes>"
      ]
     },
     "metadata": {
      "needs_background": "light"
     },
     "output_type": "display_data"
    }
   ],
   "source": [
    "seaborn.heatmap(comparisons_em, cbar=False, cmap='gray')"
   ]
  },
  {
   "cell_type": "markdown",
   "metadata": {},
   "source": [
    "We visualize the trees"
   ]
  },
  {
   "cell_type": "code",
   "execution_count": 66,
   "metadata": {},
   "outputs": [
    {
     "data": {
      "text/plain": [
       "{'name': 'Root',\n",
       " 'children': [{'name': 'feature 1 <= 126.5',\n",
       "   'children': [{'name': 'feature 6 <= 0.6385000000000001',\n",
       "     'children': [{'name': 'feature 5 <= 46.4',\n",
       "       'children': [{'name': 'feature 0 <= 12.5',\n",
       "         'children': [{'name': 'feature 2 <= 81.0',\n",
       "           'children': [{'name': 'feature 0 <= 0.5',\n",
       "             'children': [{'name': 'feature 7 <= 27.5',\n",
       "               'children': [{'name': 'feature 4 <= 66.5',\n",
       "                 'children': [{'name': 'feature 3 <= 31.5',\n",
       "                   'children': [{'name': 'Predict: 0.0'}]},\n",
       "                  {'name': 'feature 3 > 31.5',\n",
       "                   'children': [{'name': 'Predict: 1.0'}]}]},\n",
       "                {'name': 'feature 4 > 66.5',\n",
       "                 'children': [{'name': 'Predict: 0.0'}]}]},\n",
       "              {'name': 'feature 7 > 27.5',\n",
       "               'children': [{'name': 'Predict: 1.0'}]}]},\n",
       "            {'name': 'feature 0 > 0.5',\n",
       "             'children': [{'name': 'feature 3 <= 39.5',\n",
       "               'children': [{'name': 'Predict: 0.0'}]},\n",
       "              {'name': 'feature 3 > 39.5',\n",
       "               'children': [{'name': 'feature 6 <= 0.4285',\n",
       "                 'children': [{'name': 'Predict: 0.0'}]},\n",
       "                {'name': 'feature 6 > 0.4285',\n",
       "                 'children': [{'name': 'Predict: 1.0'}]}]}]}]},\n",
       "          {'name': 'feature 2 > 81.0',\n",
       "           'children': [{'name': 'feature 6 <= 0.2615',\n",
       "             'children': [{'name': 'feature 4 <= 167.5',\n",
       "               'children': [{'name': 'feature 4 <= 36.5',\n",
       "                 'children': [{'name': 'Predict: 1.0'}]},\n",
       "                {'name': 'feature 4 > 36.5',\n",
       "                 'children': [{'name': 'feature 5 <= 40.650000000000006',\n",
       "                   'children': [{'name': 'Predict: 0.0'}]},\n",
       "                  {'name': 'feature 5 > 40.650000000000006',\n",
       "                   'children': [{'name': 'Predict: 1.0'}]}]}]},\n",
       "              {'name': 'feature 4 > 167.5',\n",
       "               'children': [{'name': 'Predict: 1.0'}]}]},\n",
       "            {'name': 'feature 6 > 0.2615',\n",
       "             'children': [{'name': 'feature 4 <= 121.0',\n",
       "               'children': [{'name': 'Predict: 0.0'}]},\n",
       "              {'name': 'feature 4 > 121.0',\n",
       "               'children': [{'name': 'feature 3 <= 24.5',\n",
       "                 'children': [{'name': 'Predict: 1.0'}]},\n",
       "                {'name': 'feature 3 > 24.5',\n",
       "                 'children': [{'name': 'Predict: 0.0'}]}]}]}]}]},\n",
       "        {'name': 'feature 0 > 12.5', 'children': [{'name': 'Predict: 1.0'}]}]},\n",
       "      {'name': 'feature 5 > 46.4',\n",
       "       'children': [{'name': 'feature 0 <= 1.5',\n",
       "         'children': [{'name': 'Predict: 1.0'}]},\n",
       "        {'name': 'feature 0 > 1.5',\n",
       "         'children': [{'name': 'Predict: 0.0'}]}]}]},\n",
       "    {'name': 'feature 6 > 0.6385000000000001',\n",
       "     'children': [{'name': 'feature 5 <= 26.5',\n",
       "       'children': [{'name': 'feature 4 <= 50.5',\n",
       "         'children': [{'name': 'feature 0 <= 2.5',\n",
       "           'children': [{'name': 'Predict: 0.0'}]},\n",
       "          {'name': 'feature 0 > 2.5',\n",
       "           'children': [{'name': 'Predict: 1.0'}]}]},\n",
       "        {'name': 'feature 4 > 50.5', 'children': [{'name': 'Predict: 0.0'}]}]},\n",
       "      {'name': 'feature 5 > 26.5',\n",
       "       'children': [{'name': 'feature 4 <= 66.5',\n",
       "         'children': [{'name': 'Predict: 0.0'}]},\n",
       "        {'name': 'feature 4 > 66.5',\n",
       "         'children': [{'name': 'feature 0 <= 7.5',\n",
       "           'children': [{'name': 'feature 5 <= 32.849999999999994',\n",
       "             'children': [{'name': 'feature 7 <= 36.5',\n",
       "               'children': [{'name': 'Predict: 0.0'}]},\n",
       "              {'name': 'feature 7 > 36.5',\n",
       "               'children': [{'name': 'Predict: 1.0'}]}]},\n",
       "            {'name': 'feature 5 > 32.849999999999994',\n",
       "             'children': [{'name': 'feature 7 <= 32.5',\n",
       "               'children': [{'name': 'feature 1 <= 109.5',\n",
       "                 'children': [{'name': 'feature 2 <= 83.0',\n",
       "                   'children': [{'name': 'Predict: 1.0'}]},\n",
       "                  {'name': 'feature 2 > 83.0',\n",
       "                   'children': [{'name': 'Predict: 0.0'}]}]},\n",
       "                {'name': 'feature 1 > 109.5',\n",
       "                 'children': [{'name': 'feature 0 <= 1.5',\n",
       "                   'children': [{'name': 'feature 0 <= 0.5',\n",
       "                     'children': [{'name': 'Predict: 0.0'}]},\n",
       "                    {'name': 'feature 0 > 0.5',\n",
       "                     'children': [{'name': 'Predict: 1.0'}]}]},\n",
       "                  {'name': 'feature 0 > 1.5',\n",
       "                   'children': [{'name': 'feature 3 <= 28.5',\n",
       "                     'children': [{'name': 'Predict: 1.0'}]},\n",
       "                    {'name': 'feature 3 > 28.5',\n",
       "                     'children': [{'name': 'Predict: 0.0'}]}]}]}]},\n",
       "              {'name': 'feature 7 > 32.5',\n",
       "               'children': [{'name': 'feature 6 <= 1.263',\n",
       "                 'children': [{'name': 'Predict: 0.0'}]},\n",
       "                {'name': 'feature 6 > 1.263',\n",
       "                 'children': [{'name': 'Predict: 1.0'}]}]}]}]},\n",
       "          {'name': 'feature 0 > 7.5',\n",
       "           'children': [{'name': 'Predict: 1.0'}]}]}]}]}]},\n",
       "  {'name': 'feature 1 > 126.5',\n",
       "   'children': [{'name': 'feature 7 <= 23.5',\n",
       "     'children': [{'name': 'feature 1 <= 171.5',\n",
       "       'children': [{'name': 'feature 3 <= 33.5',\n",
       "         'children': [{'name': 'Predict: 0.0'}]},\n",
       "        {'name': 'feature 3 > 33.5',\n",
       "         'children': [{'name': 'feature 2 <= 61.0',\n",
       "           'children': [{'name': 'Predict: 1.0'}]},\n",
       "          {'name': 'feature 2 > 61.0',\n",
       "           'children': [{'name': 'Predict: 0.0'}]}]}]},\n",
       "      {'name': 'feature 1 > 171.5', 'children': [{'name': 'Predict: 1.0'}]}]},\n",
       "    {'name': 'feature 7 > 23.5',\n",
       "     'children': [{'name': 'feature 3 <= 13.5',\n",
       "       'children': [{'name': 'Predict: 0.0'}]},\n",
       "      {'name': 'feature 3 > 13.5',\n",
       "       'children': [{'name': 'feature 6 <= 0.3185',\n",
       "         'children': [{'name': 'feature 7 <= 40.5',\n",
       "           'children': [{'name': 'feature 7 <= 35.5',\n",
       "             'children': [{'name': 'feature 0 <= 2.5',\n",
       "               'children': [{'name': 'feature 4 <= 479.0',\n",
       "                 'children': [{'name': 'feature 1 <= 171.5',\n",
       "                   'children': [{'name': 'Predict: 0.0'}]},\n",
       "                  {'name': 'feature 1 > 171.5',\n",
       "                   'children': [{'name': 'Predict: 1.0'}]}]},\n",
       "                {'name': 'feature 4 > 479.0',\n",
       "                 'children': [{'name': 'Predict: 1.0'}]}]},\n",
       "              {'name': 'feature 0 > 2.5',\n",
       "               'children': [{'name': 'feature 4 <= 71.5',\n",
       "                 'children': [{'name': 'Predict: 0.0'}]},\n",
       "                {'name': 'feature 4 > 71.5',\n",
       "                 'children': [{'name': 'feature 6 <= 0.1905',\n",
       "                   'children': [{'name': 'feature 2 <= 61.0',\n",
       "                     'children': [{'name': 'Predict: 1.0'}]},\n",
       "                    {'name': 'feature 2 > 61.0',\n",
       "                     'children': [{'name': 'Predict: 0.0'}]}]},\n",
       "                  {'name': 'feature 6 > 0.1905',\n",
       "                   'children': [{'name': 'feature 3 <= 16.5',\n",
       "                     'children': [{'name': 'Predict: 0.0'}]},\n",
       "                    {'name': 'feature 3 > 16.5',\n",
       "                     'children': [{'name': 'Predict: 1.0'}]}]}]}]}]},\n",
       "            {'name': 'feature 7 > 35.5',\n",
       "             'children': [{'name': 'Predict: 0.0'}]}]},\n",
       "          {'name': 'feature 7 > 40.5',\n",
       "           'children': [{'name': 'feature 4 <= 102.5',\n",
       "             'children': [{'name': 'Predict: 0.0'}]},\n",
       "            {'name': 'feature 4 > 102.5',\n",
       "             'children': [{'name': 'Predict: 1.0'}]}]}]},\n",
       "        {'name': 'feature 6 > 0.3185',\n",
       "         'children': [{'name': 'feature 5 <= 29.55',\n",
       "           'children': [{'name': 'feature 6 <= 0.4525',\n",
       "             'children': [{'name': 'feature 2 <= 64.5',\n",
       "               'children': [{'name': 'Predict: 0.0'}]},\n",
       "              {'name': 'feature 2 > 64.5',\n",
       "               'children': [{'name': 'Predict: 1.0'}]}]},\n",
       "            {'name': 'feature 6 > 0.4525',\n",
       "             'children': [{'name': 'feature 0 <= 9.5',\n",
       "               'children': [{'name': 'feature 0 <= 0.5',\n",
       "                 'children': [{'name': 'Predict: 1.0'}]},\n",
       "                {'name': 'feature 0 > 0.5',\n",
       "                 'children': [{'name': 'Predict: 0.0'}]}]},\n",
       "              {'name': 'feature 0 > 9.5',\n",
       "               'children': [{'name': 'Predict: 1.0'}]}]}]},\n",
       "          {'name': 'feature 5 > 29.55',\n",
       "           'children': [{'name': 'feature 2 <= 49.0',\n",
       "             'children': [{'name': 'feature 1 <= 128.5',\n",
       "               'children': [{'name': 'Predict: 1.0'}]},\n",
       "              {'name': 'feature 1 > 128.5',\n",
       "               'children': [{'name': 'Predict: 0.0'}]}]},\n",
       "            {'name': 'feature 2 > 49.0',\n",
       "             'children': [{'name': 'feature 1 <= 171.5',\n",
       "               'children': [{'name': 'feature 0 <= 6.5',\n",
       "                 'children': [{'name': 'feature 0 <= 3.5',\n",
       "                   'children': [{'name': 'feature 7 <= 46.5',\n",
       "                     'children': [{'name': 'Predict: 1.0'}]},\n",
       "                    {'name': 'feature 7 > 46.5',\n",
       "                     'children': [{'name': 'Predict: 0.0'}]}]},\n",
       "                  {'name': 'feature 0 > 3.5',\n",
       "                   'children': [{'name': 'feature 2 <= 79.0',\n",
       "                     'children': [{'name': 'Predict: 0.0'}]},\n",
       "                    {'name': 'feature 2 > 79.0',\n",
       "                     'children': [{'name': 'Predict: 1.0'}]}]}]},\n",
       "                {'name': 'feature 0 > 6.5',\n",
       "                 'children': [{'name': 'feature 0 <= 12.5',\n",
       "                   'children': [{'name': 'Predict: 1.0'}]},\n",
       "                  {'name': 'feature 0 > 12.5',\n",
       "                   'children': [{'name': 'feature 0 <= 13.5',\n",
       "                     'children': [{'name': 'Predict: 0.0'}]},\n",
       "                    {'name': 'feature 0 > 13.5',\n",
       "                     'children': [{'name': 'Predict: 1.0'}]}]}]}]},\n",
       "              {'name': 'feature 1 > 171.5',\n",
       "               'children': [{'name': 'feature 6 <= 1.0645',\n",
       "                 'children': [{'name': 'Predict: 1.0'}]},\n",
       "                {'name': 'feature 6 > 1.0645',\n",
       "                 'children': [{'name': 'feature 3 <= 39.5',\n",
       "                   'children': [{'name': 'feature 2 <= 79.0',\n",
       "                     'children': [{'name': 'Predict: 0.0'}]},\n",
       "                    {'name': 'feature 2 > 79.0',\n",
       "                     'children': [{'name': 'Predict: 1.0'}]}]},\n",
       "                  {'name': 'feature 3 > 39.5',\n",
       "                   'children': [{'name': 'Predict: 1.0'}]}]}]}]}]}]}]}]}]}]}"
      ]
     },
     "execution_count": 66,
     "metadata": {},
     "output_type": "execute_result"
    }
   ],
   "source": [
    "import json\n",
    "\n",
    "def parse(lines):\n",
    "    block = []\n",
    "    while lines :\n",
    "\n",
    "        if lines[0].startswith('If'):\n",
    "            bl = ' '.join(lines.pop(0).split()[1:]).replace('(', '').replace(')', '')\n",
    "            block.append({'name':bl, 'children':parse(lines)})\n",
    "\n",
    "            if lines[0].startswith('Else'):\n",
    "                be = ' '.join(lines.pop(0).split()[1:]).replace('(', '').replace(')', '')\n",
    "                block.append({'name':be, 'children':parse(lines)})\n",
    "        elif not lines[0].startswith(('If','Else')):\n",
    "            block2 = lines.pop(0)\n",
    "            block.append({'name':block2})\n",
    "        else:\n",
    "            break\n",
    "    return block\n",
    "    \n",
    "def tree_json(tree):\n",
    "    data = []\n",
    "    for line in tree.splitlines() : \n",
    "        if line.strip():\n",
    "            line = line.strip()\n",
    "            data.append(line)\n",
    "        else : break\n",
    "        if not line : break\n",
    "    res = []\n",
    "    res.append({'name':'Root', 'children':parse(data[1:])})\n",
    "    return res[0]\n",
    "\n",
    "tree_cca = model_dt_cca.bestModel.toDebugString\n",
    "tree_json(tree_cca)"
   ]
  }
 ],
 "metadata": {
  "kernelspec": {
   "display_name": "Python [conda env:root] *",
   "language": "python",
   "name": "conda-root-py"
  },
  "language_info": {
   "codemirror_mode": {
    "name": "ipython",
    "version": 3
   },
   "file_extension": ".py",
   "mimetype": "text/x-python",
   "name": "python",
   "nbconvert_exporter": "python",
   "pygments_lexer": "ipython3",
   "version": "3.7.3"
  }
 },
 "nbformat": 4,
 "nbformat_minor": 2
}
